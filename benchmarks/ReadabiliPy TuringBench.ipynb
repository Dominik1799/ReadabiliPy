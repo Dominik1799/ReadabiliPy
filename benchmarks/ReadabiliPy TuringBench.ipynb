{
 "cells": [
  {
   "cell_type": "markdown",
   "metadata": {},
   "source": [
    "[TuringBench](https://alan-turing-institute.github.io/data-science-benchmarking/) Benchmarking workflow for [ReadabiliPy](https://github.com/alan-turing-institute/ReadabiliPy)\n",
    "===="
   ]
  },
  {
   "cell_type": "markdown",
   "metadata": {},
   "source": [
    "**Software:** [ReadabiliPy](https://github.com/alan-turing-institute/ReadabiliPy) - A simple HTML content extractor in Python. Can be run as a wrapper for Mozilla's Readability.js package or in pure-python mode.\n",
    "\n",
    "**Benchmarks:** Benchmark the speed of core package functions at extracting information from an input HTML with [pytest](https://pypi.org/project/pytest-benchmark/)\n",
    "\n",
    "This benchmarking notebook follows the TuringBench workflow outlined at [https://alan-turing-institute.github.io/data-science-benchmarking/](https://alan-turing-institute.github.io/data-science-benchmarking/)"
   ]
  },
  {
   "cell_type": "markdown",
   "metadata": {},
   "source": [
    "Creating benchmarks\n",
    "----\n",
    "\n",
    "To get started with the TuringBench workflow, I created a branch of the ReadabiliPy repository (called ```benchmarking```) and added benchmarks to the pre-existing pytest tests, which was easy with the [pytest-benchmark](https://pypi.org/project/pytest-benchmark/) package, making sure to also add this package in the ```requirements-dev.txt``` used by ReadabiliPy.\n",
    "\n",
    "I followed the pytest-benchmark instructions, setting up benchmarks for some of the ReadabiliPy package functions, which get run alongside existing tests with the command ```pytest```. We can also run the benchmarks only (ignoring other tests) with ```pytest --benchmark-only```.\n",
    "\n",
    "Once happy with the benchmarks I wanted, I committed these changes and pushed to them to the remote ```benchmarking``` branch on GitHub."
   ]
  },
  {
   "cell_type": "markdown",
   "metadata": {},
   "source": [
    "Building a Docker image for Benchmarking ReadabiliPy\n",
    "----\n",
    "\n",
    "The Dockerfile below installs the requirements for ReadabiliPy and pulls the latest commit of the ```benchmarking``` branch from GitHub, then runs the benchmarks with pytest."
   ]
  },
  {
   "cell_type": "code",
   "execution_count": 11,
   "metadata": {},
   "outputs": [
    {
     "name": "stdout",
     "output_type": "stream",
     "text": [
      "Overwriting Dockerfile\n"
     ]
    }
   ],
   "source": [
    "%%writefile Dockerfile\n",
    "FROM python:3\n",
    "\n",
    "# Install requirements\n",
    "RUN apt-get update\n",
    "RUN apt-get -y install curl\n",
    "RUN curl -sL https://deb.nodesource.com/setup_11.x | bash -\n",
    "RUN apt install nodejs\n",
    "RUN npm install\n",
    "RUN pip install --upgrade pip\n",
    "RUN apt-get install -y git\n",
    "\n",
    "# Clone ReadabiliPy and install python packages\n",
    "RUN git clone -b benchmarking --single-branch https://github.com/alan-turing-institute/ReadabiliPy\n",
    "WORKDIR \"/ReadabiliPy\"\n",
    "RUN pip install -r requirements-dev.txt\n",
    "\n",
    "# Run the benchmarks with Pytest\n",
    "CMD pytest --benchmark-only\n"
   ]
  },
  {
   "cell_type": "markdown",
   "metadata": {},
   "source": [
    "### Build"
   ]
  },
  {
   "cell_type": "code",
   "execution_count": 12,
   "metadata": {},
   "outputs": [
    {
     "name": "stdout",
     "output_type": "stream",
     "text": [
      "Sending build context to Docker daemon  41.98kB\r",
      "\r\n",
      "Step 1/12 : FROM python:3\n",
      " ---> ac069ebfe1e1\n",
      "Step 2/12 : RUN apt-get update\n",
      " ---> Using cache\n",
      " ---> 5a84d23aa7b5\n",
      "Step 3/12 : RUN apt-get -y install curl\n",
      " ---> Using cache\n",
      " ---> fa727cce5ef4\n",
      "Step 4/12 : RUN curl -sL https://deb.nodesource.com/setup_11.x | bash -\n",
      " ---> Using cache\n",
      " ---> 6072028d5b8f\n",
      "Step 5/12 : RUN apt install nodejs\n",
      " ---> Using cache\n",
      " ---> c493d1b01b96\n",
      "Step 6/12 : RUN npm install\n",
      " ---> Using cache\n",
      " ---> c952a91935a8\n",
      "Step 7/12 : RUN pip install --upgrade pip\n",
      " ---> Using cache\n",
      " ---> 92e402750d57\n",
      "Step 8/12 : RUN apt-get install -y git\n",
      " ---> Using cache\n",
      " ---> 1b10afe3306c\n",
      "Step 9/12 : RUN git clone -b benchmarking --single-branch https://github.com/alan-turing-institute/ReadabiliPy\n",
      " ---> Using cache\n",
      " ---> cf99a8e9e4c9\n",
      "Step 10/12 : WORKDIR \"/ReadabiliPy\"\n",
      " ---> Using cache\n",
      " ---> 6560e34a1b59\n",
      "Step 11/12 : RUN pip install -r requirements-dev.txt\n",
      " ---> Using cache\n",
      " ---> dbdfb0d07fbf\n",
      "Step 12/12 : CMD pytest --benchmark-only\n",
      " ---> Using cache\n",
      " ---> a85ee784c735\n",
      "Successfully built a85ee784c735\n",
      "Successfully tagged edwardchalstrey/readabilipy_benchmark:latest\n"
     ]
    }
   ],
   "source": [
    "%%bash\n",
    "docker build -t edwardchalstrey/readabilipy_benchmark:latest ."
   ]
  },
  {
   "cell_type": "code",
   "execution_count": 15,
   "metadata": {},
   "outputs": [
    {
     "name": "stdout",
     "output_type": "stream",
     "text": [
      "============================= test session starts ==============================\n",
      "platform linux -- Python 3.7.2, pytest-4.4.1, py-1.8.0, pluggy-0.9.0\n",
      "benchmark: 3.2.2 (defaults: timer=time.perf_counter disable_gc=False min_rounds=5 min_time=0.000005 max_time=1.0 calibration_precision=10 warmup=False warmup_iterations=100000)\n",
      "rootdir: /ReadabiliPy\n",
      "plugins: cov-2.6.1, benchmark-3.2.2\n",
      "collected 173 items\n",
      "\n",
      "tests/test_benchmarking.py ..                                            [  1%]\n",
      "tests/test_extractors.py s                                               [  1%]\n",
      "tests/test_html_elements.py ssssssssssssssssssssssssssssssssssssssssssss [ 27%]\n",
      "sssssssssssssssssssssssssssssssssssssssssssssssssssssssssss              [ 61%]\n",
      "tests/test_javascript.py ss                                              [ 62%]\n",
      "tests/test_json_parser.py sssss                                          [ 65%]\n",
      "tests/test_normal_html.py ssssssssssssssssss                             [ 75%]\n",
      "tests/test_plain_html_functions.py sss                                   [ 77%]\n",
      "tests/test_readability.py sssssssssssss                                  [ 84%]\n",
      "tests/test_text_manipulation.py ssssssssss                               [ 90%]\n",
      "tests/test_weird_html.py ssssssssssssssss                                [100%]\n",
      "\n",
      "=============================== warnings summary ===============================\n",
      "/usr/local/lib/python3.7/site-packages/html5lib/_trie/_base.py:3\n",
      "  /usr/local/lib/python3.7/site-packages/html5lib/_trie/_base.py:3: DeprecationWarning: Using or importing the ABCs from 'collections' instead of from 'collections.abc' is deprecated, and in 3.8 it will stop working\n",
      "    from collections import Mapping\n",
      "\n",
      "-- Docs: https://docs.pytest.org/en/latest/warnings.html\n",
      "\n",
      "\r",
      "Computing stats ...\r",
      "Computing stats ... group 1/1\r",
      "Computing stats ... group 1/1: min\r",
      "Computing stats ... group 1/1: min (1/2)\r",
      "Computing stats ... group 1/1: min (2/2)\r",
      "Computing stats ... group 1/1: min (1/2)\r",
      "Computing stats ... group 1/1: min (2/2)\r",
      "Computing stats ... group 1/1: max\r",
      "Computing stats ... group 1/1: max (1/2)\r",
      "Computing stats ... group 1/1: max (2/2)\r",
      "Computing stats ... group 1/1: max (1/2)\r",
      "Computing stats ... group 1/1: max (2/2)\r",
      "Computing stats ... group 1/1: mean\r",
      "Computing stats ... group 1/1: mean (1/2)\r",
      "Computing stats ... group 1/1: mean (2/2)\r",
      "Computing stats ... group 1/1: mean (1/2)\r",
      "Computing stats ... group 1/1: mean (2/2)\r",
      "Computing stats ... group 1/1: median\r",
      "Computing stats ... group 1/1: median (1/2)\r",
      "Computing stats ... group 1/1: median (2/2)\r",
      "Computing stats ... group 1/1: median (1/2)\r",
      "Computing stats ... group 1/1: median (2/2)\r",
      "Computing stats ... group 1/1: iqr\r",
      "Computing stats ... group 1/1: iqr (1/2)\r",
      "Computing stats ... group 1/1: iqr (2/2)\r",
      "Computing stats ... group 1/1: iqr (1/2)\r",
      "Computing stats ... group 1/1: iqr (2/2)\r",
      "Computing stats ... group 1/1: stddev\r",
      "Computing stats ... group 1/1: stddev (1/2)\r",
      "Computing stats ... group 1/1: stddev (2/2)\r",
      "Computing stats ... group 1/1: stddev (1/2)\r",
      "Computing stats ... group 1/1: stddev (2/2)\r",
      "Computing stats ... group 1/1: ops\r",
      "Computing stats ... group 1/1: ops (1/2)\r",
      "Computing stats ... group 1/1: ops (2/2)\r",
      "Computing stats ... group 1/1: ops (1/2)\r",
      "Computing stats ... group 1/1: ops (2/2)\r",
      "Computing stats ... group 1/1: ops: outliers\r",
      "Computing stats ... group 1/1: ops: outliers (1/2)\r",
      "Computing stats ... group 1/1: ops: outliers (2/2)\r",
      "Computing stats ... group 1/1: ops: rounds\r",
      "Computing stats ... group 1/1: ops: rounds (1/2)\r",
      "Computing stats ... group 1/1: ops: rounds (2/2)\r",
      "Computing stats ... group 1/1: ops: iterations\r",
      "Computing stats ... group 1/1: ops: iterations (1/2)\r",
      "Computing stats ... group 1/1: ops: iterations (2/2)\r",
      "-------------------------------------------------------------------------------------------------- benchmark: 2 tests -------------------------------------------------------------------------------------------------\n",
      "Name (time in us)                        Min                    Max                   Mean              StdDev                 Median                 IQR            Outliers         OPS            Rounds  Iterations\n",
      "-----------------------------------------------------------------------------------------------------------------------------------------------------------------------------------------------------------------------\n",
      "test_benchmark_extract_title        528.6000 (1.0)       1,243.7000 (1.0)         564.5642 (1.0)       74.1061 (1.0)         536.2000 (1.0)       19.8000 (1.0)       164;227  1,771.2777 (1.0)        1539           1\n",
      "test_benchmark_parse_to_json     34,575.1000 (65.41)    37,547.8000 (30.19)    35,458.0808 (62.81)    803.1331 (10.84)    35,261.9500 (65.76)    685.3000 (34.61)         6;3     28.2023 (0.02)         26           1\n",
      "-----------------------------------------------------------------------------------------------------------------------------------------------------------------------------------------------------------------------\n",
      "\n",
      "Legend:\n",
      "  Outliers: 1 Standard Deviation from Mean; 1.5 IQR (InterQuartile Range) from 1st Quartile and 3rd Quartile.\n",
      "  OPS: Operations Per Second, computed as 1 / Mean\n",
      "============== 2 passed, 171 skipped, 1 warnings in 3.34 seconds ===============\n"
     ]
    }
   ],
   "source": [
    "%%bash\n",
    "docker run edwardchalstrey/readabilipy_benchmark:latest"
   ]
  },
  {
   "cell_type": "code",
   "execution_count": 14,
   "metadata": {},
   "outputs": [
    {
     "name": "stdout",
     "output_type": "stream",
     "text": [
      "The push refers to repository [docker.io/edwardchalstrey/readabilipy_benchmark]\n",
      "2e7dd3b4feb6: Preparing\n",
      "3e1c1d117536: Preparing\n",
      "6ff62ff8b98f: Preparing\n",
      "dec915b951fe: Preparing\n",
      "519fad9ce2ed: Preparing\n",
      "1543960dda15: Preparing\n",
      "e0bdf915dbf4: Preparing\n",
      "6dc4e4c587a1: Preparing\n",
      "65ef2276d16f: Preparing\n",
      "4b381ae03f9a: Preparing\n",
      "08a5b66845ac: Preparing\n",
      "88a85bcf8170: Preparing\n",
      "65860ac81ef4: Preparing\n",
      "a22a5ac18042: Preparing\n",
      "6257fa9f9597: Preparing\n",
      "578414b395b9: Preparing\n",
      "abc3250a6c7f: Preparing\n",
      "13d5529fd232: Preparing\n",
      "6257fa9f9597: Waiting\n",
      "4b381ae03f9a: Waiting\n",
      "08a5b66845ac: Waiting\n",
      "abc3250a6c7f: Waiting\n",
      "578414b395b9: Waiting\n",
      "13d5529fd232: Waiting\n",
      "88a85bcf8170: Waiting\n",
      "1543960dda15: Waiting\n",
      "65860ac81ef4: Waiting\n",
      "a22a5ac18042: Waiting\n",
      "6dc4e4c587a1: Waiting\n",
      "65ef2276d16f: Waiting\n",
      "2e7dd3b4feb6: Layer already exists\n",
      "3e1c1d117536: Layer already exists\n",
      "519fad9ce2ed: Layer already exists\n",
      "6ff62ff8b98f: Layer already exists\n",
      "dec915b951fe: Layer already exists\n",
      "6dc4e4c587a1: Layer already exists\n",
      "65ef2276d16f: Layer already exists\n",
      "4b381ae03f9a: Layer already exists\n",
      "e0bdf915dbf4: Layer already exists\n",
      "1543960dda15: Layer already exists\n",
      "08a5b66845ac: Layer already exists\n",
      "65860ac81ef4: Layer already exists\n",
      "a22a5ac18042: Layer already exists\n",
      "6257fa9f9597: Layer already exists\n",
      "88a85bcf8170: Layer already exists\n",
      "578414b395b9: Layer already exists\n",
      "abc3250a6c7f: Layer already exists\n",
      "13d5529fd232: Layer already exists\n",
      "latest: digest: sha256:50909c89f653e90fc9d47aeeef4d8223c7fc92bc452c1ebfbec0259583af089b size: 4112\n"
     ]
    }
   ],
   "source": [
    "%%bash\n",
    "docker push edwardchalstrey/readabilipy_benchmark:latest"
   ]
  },
  {
   "cell_type": "markdown",
   "metadata": {},
   "source": [
    "Automated build setup\n",
    "----\n",
    "\n",
    "Options:\n",
    "1. Use Docker Hub (I have requested permission to create automated builds for Alan Turing repos)\n",
    "2. Use an Azure Container Registry"
   ]
  },
  {
   "cell_type": "markdown",
   "metadata": {},
   "source": [
    "Edited Dockerfile to install master branch\n",
    "\n",
    "(should be a copy of the above with ```RUN git clone https://github.com/alan-turing-institute/ReadabiliPy```)"
   ]
  },
  {
   "cell_type": "code",
   "execution_count": null,
   "metadata": {},
   "outputs": [],
   "source": [
    "%%writefile Dockerfile\n",
    "FROM python:3\n",
    "\n",
    "# Install requirements\n",
    "RUN apt-get update\n",
    "RUN apt-get -y install curl\n",
    "RUN curl -sL https://deb.nodesource.com/setup_11.x | bash -\n",
    "RUN apt install nodejs\n",
    "RUN npm install\n",
    "RUN pip install --upgrade pip\n",
    "RUN apt-get install -y git\n",
    "\n",
    "# Clone ReadabiliPy and install python packages\n",
    "RUN git clone https://github.com/alan-turing-institute/ReadabiliPy\n",
    "WORKDIR \"/ReadabiliPy\"\n",
    "RUN pip install -r requirements-dev.txt\n",
    "\n",
    "# Run the benchmarks with Pytest\n",
    "CMD pytest --benchmark-only"
   ]
  }
 ],
 "metadata": {
  "kernelspec": {
   "display_name": "Python 3",
   "language": "python",
   "name": "python3"
  },
  "language_info": {
   "codemirror_mode": {
    "name": "ipython",
    "version": 3
   },
   "file_extension": ".py",
   "mimetype": "text/x-python",
   "name": "python",
   "nbconvert_exporter": "python",
   "pygments_lexer": "ipython3",
   "version": "3.7.1"
  }
 },
 "nbformat": 4,
 "nbformat_minor": 2
}
