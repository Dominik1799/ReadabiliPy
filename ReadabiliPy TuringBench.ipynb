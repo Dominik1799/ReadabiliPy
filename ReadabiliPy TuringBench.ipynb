{
 "cells": [
  {
   "cell_type": "markdown",
   "metadata": {},
   "source": [
    "[TuringBench](https://alan-turing-institute.github.io/data-science-benchmarking/) Benchmarking workflow for [ReadabiliPy](https://github.com/alan-turing-institute/ReadabiliPy)\n",
    "===="
   ]
  },
  {
   "cell_type": "markdown",
   "metadata": {},
   "source": [
    "**Software:** [ReadabiliPy](https://github.com/alan-turing-institute/ReadabiliPy) - A simple HTML content extractor in Python. Can be run as a wrapper for Mozilla's Readability.js package or in pure-python mode.\n",
    "\n",
    "**Benchmarks:** *EDIT* Benchmark with [pytest](https://pypi.org/project/pytest-benchmark/)\n",
    "\n",
    "This benchmarking notebook follows the TuringBench workflow outlined at [https://alan-turing-institute.github.io/data-science-benchmarking/](https://alan-turing-institute.github.io/data-science-benchmarking/)"
   ]
  },
  {
   "cell_type": "markdown",
   "metadata": {},
   "source": [
    "Development Dockerfile:"
   ]
  },
  {
   "cell_type": "code",
   "execution_count": 1,
   "metadata": {},
   "outputs": [
    {
     "name": "stdout",
     "output_type": "stream",
     "text": [
      "Overwriting Dockerfile\n"
     ]
    }
   ],
   "source": [
    "%%writefile Dockerfile\n",
    "FROM python:3\n",
    "\n",
    "# Install node.js following instructions from\n",
    "# https://nodejs.org/en/download/package-manager/\n",
    "RUN apt-get update\n",
    "RUN apt-get -y install curl\n",
    "RUN curl -sL https://deb.nodesource.com/setup_11.x | bash -\n",
    "RUN apt install nodejs\n",
    "\n",
    "# Install node.js dependencies\n",
    "RUN npm install\n",
    "# Install python dependencies\n",
    "RUN pip install --upgrade pip\n",
    "COPY requirements-dev.txt /requirements-dev.txt\n",
    "RUN pip install -r requirements-dev.txt\n",
    "\n",
    "# Install git\n",
    "RUN apt-get install -y git\n",
    "\n",
    "# Clone ReadabiliPy and cd into it\n",
    "RUN git clone -b benchmarking --single-branch https://github.com/alan-turing-institute/ReadabiliPy\n",
    "WORKDIR \"/ReadabiliPy\"\n",
    "\n",
    "# Run the benchmarks with Pytest\n",
    "CMD pytest --benchmark-only\n"
   ]
  },
  {
   "cell_type": "code",
   "execution_count": null,
   "metadata": {},
   "outputs": [],
   "source": [
    "%%bash\n",
    "docker build -t edwardchalstrey/readabilipy_benchmark:latest ."
   ]
  },
  {
   "cell_type": "markdown",
   "metadata": {},
   "source": [
    "Edited Dockerfile to install master branch"
   ]
  },
  {
   "cell_type": "code",
   "execution_count": null,
   "metadata": {},
   "outputs": [],
   "source": [
    "%%writefile Dockerfile\n",
    "FROM python:3\n",
    "\n",
    "# Install node.js following instructions from\n",
    "# https://nodejs.org/en/download/package-manager/\n",
    "RUN apt-get update\n",
    "RUN apt-get -y install curl\n",
    "RUN curl -sL https://deb.nodesource.com/setup_11.x | bash -\n",
    "RUN apt install nodejs\n",
    "\n",
    "# Install node.js dependencies\n",
    "RUN npm install\n",
    "# Install python dependencies\n",
    "RUN pip install --upgrade pip\n",
    "COPY requirements-dev.txt /requirements-dev.txt\n",
    "RUN pip install -r requirements-dev.txt\n",
    "\n",
    "# Install git\n",
    "RUN apt-get install -y git\n",
    "\n",
    "# Clone ReadabiliPy and cd into it\n",
    "RUN git clone https://github.com/alan-turing-institute/ReadabiliPy\n",
    "# RUN pip install git+git://github.com/alan-turing-institute/ReadabiliPy@benchmarking\n",
    "WORKDIR \"/ReadabiliPy\"\n",
    "\n",
    "# Run the benchmarks with Pytest\n",
    "CMD pytest --benchmark-only"
   ]
  }
 ],
 "metadata": {
  "kernelspec": {
   "display_name": "Python 3",
   "language": "python",
   "name": "python3"
  },
  "language_info": {
   "codemirror_mode": {
    "name": "ipython",
    "version": 3
   },
   "file_extension": ".py",
   "mimetype": "text/x-python",
   "name": "python",
   "nbconvert_exporter": "python",
   "pygments_lexer": "ipython3",
   "version": "3.7.1"
  }
 },
 "nbformat": 4,
 "nbformat_minor": 2
}
